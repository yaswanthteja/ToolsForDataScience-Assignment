{
 "cells": [
  {
   "cell_type": "markdown",
   "metadata": {},
   "source": [
    "# My Jupyter Notebook on IBM Watson Studio"
   ]
  },
  {
   "cell_type": "markdown",
   "metadata": {},
   "source": [
    "<b> Yaswanth Teja </b> \n",
    "\n"
   ]
  },
  {
   "cell_type": "markdown",
   "metadata": {},
   "source": [
    "_I am interested in data science because I'm passionate about data and this industry is very actual as well as a good investment for the future_"
   ]
  },
  {
   "cell_type": "markdown",
   "metadata": {},
   "source": [
    "### The next cell will calculate how much money I will pay Coursera as tution fee for course  \"data Science\":"
   ]
  },
  {
   "cell_type": "code",
   "execution_count": 1,
   "metadata": {
    "scrolled": true
   },
   "outputs": [
    {
     "name": "stdout",
     "output_type": "stream",
     "text": [
      "For Data Science course you will pay in total 1200 ₹.\n"
     ]
    }
   ],
   "source": [
    "import math               \n",
    "MonthlyFee = 300           \n",
    "CourseLength = 11          \n",
    "MyPace = 3               \n",
    "TotalFee = math.ceil(CourseLength/MyPace)*MonthlyFee \n",
    "print('For Data Science course you will pay in total',TotalFee,'₹.') "
   ]
  },
  {
   "cell_type": "markdown",
   "metadata": {},
   "source": [
    "Because: \n",
    "1. There is the chance info is usefull\n",
    "2. It is not a lot for 11 months \n",
    "\n",
    "I think it is fair enough\n",
    "***\n",
    "T run this code:\n",
    "```python\n",
    "import math               \n",
    "MonthlyFee = 300           \n",
    "CourseLength = 11          \n",
    "MyPace = 3                \n",
    "TotalFee = math.ceil(CourseLength/MyPace)*MonthlyFee\n",
    "print('For Data Science course you will pay in total',TotalFee,'₹.') # output the values.\n",
    "\n",
    "```\n",
    "\n",
    "* So go on\n",
    "   \n",
    "   `Try it if you can`\n",
    "   \n",
    "   \n",
    "* Here is the link to course: [IBM Data Science Professional Certificate](https://www.coursera.org/professional-certificates/ibm-data-science \"Enroll\")\n",
    " \n",
    " "
   ]
  },
  {
   "cell_type": "code",
   "execution_count": null,
   "metadata": {},
   "outputs": [],
   "source": []
  }
 ],
 "metadata": {
  "kernelspec": {
   "display_name": "Python 3 (ipykernel)",
   "language": "python",
   "name": "python3"
  },
  "language_info": {
   "codemirror_mode": {
    "name": "ipython",
    "version": 3
   },
   "file_extension": ".py",
   "mimetype": "text/x-python",
   "name": "python",
   "nbconvert_exporter": "python",
   "pygments_lexer": "ipython3",
   "version": "3.7.2"
  }
 },
 "nbformat": 4,
 "nbformat_minor": 4
}
